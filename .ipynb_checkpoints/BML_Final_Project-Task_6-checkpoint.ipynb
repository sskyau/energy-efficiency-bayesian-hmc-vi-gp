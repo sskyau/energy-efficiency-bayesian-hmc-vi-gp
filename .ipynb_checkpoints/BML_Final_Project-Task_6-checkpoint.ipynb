{
 "cells": [
  {
   "cell_type": "markdown",
   "metadata": {},
   "source": [
    "# CM50268 :: Final project (group work)\n",
    "\n",
    "**Total Marks 25 (25% of overall unit grade).** \n",
    "\n",
    "*Submission deadline: 8pm, May 10, 2022. Please submit this file along with your individual report in Moodle*"
   ]
  },
  {
   "cell_type": "markdown",
   "metadata": {},
   "source": [
    "## Submission & Marking\n",
    "\n",
    "This group exercise is assessed, and the marks will contribute to your final grade. For this exercise there are a number of places where you are expected to enter your own code. Please see the BML Final Project Specification document for details. \n",
    "\n",
    "Every place you have to add code is described in the text and specifically indicated by the comment:\n",
    "\n",
    "`#### **** YOUR CODE HERE **** ####`\n",
    "\n",
    "\n",
    "**Please submit your completed workbook using Moodle before 8pm on May 10, 2022 along with your individual report**. The workbook you submit must be this `.ipynb` file, which is saved into the directory you're running Jupyter; alternatively you can download it from the menu above using `File -> Download As -> Notebook (.ipynb)`. Remember to save your work regularly (Save and Checkpoint in the File menu, the icon of a floppy disk, or Ctrl-S); the version you submit should have all code blocks showing the results (if any) of execution below them.\n",
    "\n",
    "**You should take care to avoid any suggestion of plagiarism in your submission.** There is helpful information on how to avoid plagiarism on the University website: http://www.bath.ac.uk/library/help/infoguides/plagiarism.html"
   ]
  },
  {
   "cell_type": "markdown",
   "metadata": {},
   "source": [
    "# Project setup\n",
    "\n",
    "This coursework involves the evaluation of Bayesian modelling methods on a real multivariate regression task. Please check the pdf file for the details of the project.\n",
    "\n",
    "- <font color=Red> Please try to use fixed random seeds to make your results reproducible </font>\n",
    "\n",
    "- <font color=Red> Please do NOT change the name of the fixed variables, as Task 2 - Task 5 of this coding exercises are auto-marked </font>\n",
    "\n",
    "The marks for Task 1 and Task 6 will be awarded based only on the content of the report."
   ]
  },
  {
   "cell_type": "code",
   "execution_count": 2,
   "metadata": {
    "ExecuteTime": {
     "end_time": "2022-04-06T16:04:14.843249Z",
     "start_time": "2022-04-06T16:04:13.852342Z"
    }
   },
   "outputs": [],
   "source": [
    "import pandas as pd\n",
    "import numpy as np\n",
    "import math\n",
    "import matplotlib.pyplot as plt\n",
    "\n",
    "from scipy import stats\n",
    "from sklearn.metrics import mean_absolute_error as mae \n",
    "from sklearn.metrics import mean_squared_error as mse\n",
    "import hmc_Lab as hmc\n"
   ]
  },
  {
   "cell_type": "code",
   "execution_count": 4,
   "metadata": {},
   "outputs": [
    {
     "data": {
      "text/html": [
       "<div>\n",
       "<style scoped>\n",
       "    .dataframe tbody tr th:only-of-type {\n",
       "        vertical-align: middle;\n",
       "    }\n",
       "\n",
       "    .dataframe tbody tr th {\n",
       "        vertical-align: top;\n",
       "    }\n",
       "\n",
       "    .dataframe thead th {\n",
       "        text-align: right;\n",
       "    }\n",
       "</style>\n",
       "<table border=\"1\" class=\"dataframe\">\n",
       "  <thead>\n",
       "    <tr style=\"text-align: right;\">\n",
       "      <th></th>\n",
       "      <th>const</th>\n",
       "      <th>Relative Compactness</th>\n",
       "      <th>Surface Area</th>\n",
       "      <th>Wall Area</th>\n",
       "      <th>Roof Area</th>\n",
       "      <th>Overall Height</th>\n",
       "      <th>Orientation</th>\n",
       "      <th>Glazing Area</th>\n",
       "      <th>Glazing Area Distribution</th>\n",
       "      <th>Heating Load</th>\n",
       "    </tr>\n",
       "  </thead>\n",
       "  <tbody>\n",
       "    <tr>\n",
       "      <th>count</th>\n",
       "      <td>384.0</td>\n",
       "      <td>384.000000</td>\n",
       "      <td>384.000000</td>\n",
       "      <td>384.000000</td>\n",
       "      <td>384.000000</td>\n",
       "      <td>384.000000</td>\n",
       "      <td>384.000000</td>\n",
       "      <td>384.000000</td>\n",
       "      <td>384.000000</td>\n",
       "      <td>384.000000</td>\n",
       "    </tr>\n",
       "    <tr>\n",
       "      <th>mean</th>\n",
       "      <td>1.0</td>\n",
       "      <td>0.771042</td>\n",
       "      <td>665.774740</td>\n",
       "      <td>318.180990</td>\n",
       "      <td>173.796875</td>\n",
       "      <td>5.377604</td>\n",
       "      <td>3.536458</td>\n",
       "      <td>0.236849</td>\n",
       "      <td>2.783854</td>\n",
       "      <td>22.920703</td>\n",
       "    </tr>\n",
       "    <tr>\n",
       "      <th>std</th>\n",
       "      <td>0.0</td>\n",
       "      <td>0.106553</td>\n",
       "      <td>88.196712</td>\n",
       "      <td>42.248972</td>\n",
       "      <td>44.852410</td>\n",
       "      <td>1.747619</td>\n",
       "      <td>1.097695</td>\n",
       "      <td>0.133306</td>\n",
       "      <td>1.567506</td>\n",
       "      <td>10.066099</td>\n",
       "    </tr>\n",
       "    <tr>\n",
       "      <th>min</th>\n",
       "      <td>1.0</td>\n",
       "      <td>0.620000</td>\n",
       "      <td>514.500000</td>\n",
       "      <td>245.000000</td>\n",
       "      <td>110.250000</td>\n",
       "      <td>3.500000</td>\n",
       "      <td>2.000000</td>\n",
       "      <td>0.000000</td>\n",
       "      <td>0.000000</td>\n",
       "      <td>6.400000</td>\n",
       "    </tr>\n",
       "    <tr>\n",
       "      <th>25%</th>\n",
       "      <td>1.0</td>\n",
       "      <td>0.690000</td>\n",
       "      <td>588.000000</td>\n",
       "      <td>294.000000</td>\n",
       "      <td>140.875000</td>\n",
       "      <td>3.500000</td>\n",
       "      <td>3.000000</td>\n",
       "      <td>0.100000</td>\n",
       "      <td>1.000000</td>\n",
       "      <td>14.057500</td>\n",
       "    </tr>\n",
       "    <tr>\n",
       "      <th>50%</th>\n",
       "      <td>1.0</td>\n",
       "      <td>0.760000</td>\n",
       "      <td>661.500000</td>\n",
       "      <td>318.500000</td>\n",
       "      <td>147.000000</td>\n",
       "      <td>7.000000</td>\n",
       "      <td>4.000000</td>\n",
       "      <td>0.250000</td>\n",
       "      <td>3.000000</td>\n",
       "      <td>23.605000</td>\n",
       "    </tr>\n",
       "    <tr>\n",
       "      <th>75%</th>\n",
       "      <td>1.0</td>\n",
       "      <td>0.860000</td>\n",
       "      <td>735.000000</td>\n",
       "      <td>343.000000</td>\n",
       "      <td>220.500000</td>\n",
       "      <td>7.000000</td>\n",
       "      <td>5.000000</td>\n",
       "      <td>0.400000</td>\n",
       "      <td>4.000000</td>\n",
       "      <td>32.052500</td>\n",
       "    </tr>\n",
       "    <tr>\n",
       "      <th>max</th>\n",
       "      <td>1.0</td>\n",
       "      <td>0.980000</td>\n",
       "      <td>808.500000</td>\n",
       "      <td>416.500000</td>\n",
       "      <td>220.500000</td>\n",
       "      <td>7.000000</td>\n",
       "      <td>5.000000</td>\n",
       "      <td>0.400000</td>\n",
       "      <td>5.000000</td>\n",
       "      <td>43.100000</td>\n",
       "    </tr>\n",
       "  </tbody>\n",
       "</table>\n",
       "</div>"
      ],
      "text/plain": [
       "       const  Relative Compactness  Surface Area   Wall Area   Roof Area  \\\n",
       "count  384.0            384.000000    384.000000  384.000000  384.000000   \n",
       "mean     1.0              0.771042    665.774740  318.180990  173.796875   \n",
       "std      0.0              0.106553     88.196712   42.248972   44.852410   \n",
       "min      1.0              0.620000    514.500000  245.000000  110.250000   \n",
       "25%      1.0              0.690000    588.000000  294.000000  140.875000   \n",
       "50%      1.0              0.760000    661.500000  318.500000  147.000000   \n",
       "75%      1.0              0.860000    735.000000  343.000000  220.500000   \n",
       "max      1.0              0.980000    808.500000  416.500000  220.500000   \n",
       "\n",
       "       Overall Height  Orientation  Glazing Area  Glazing Area Distribution  \\\n",
       "count      384.000000   384.000000    384.000000                 384.000000   \n",
       "mean         5.377604     3.536458      0.236849                   2.783854   \n",
       "std          1.747619     1.097695      0.133306                   1.567506   \n",
       "min          3.500000     2.000000      0.000000                   0.000000   \n",
       "25%          3.500000     3.000000      0.100000                   1.000000   \n",
       "50%          7.000000     4.000000      0.250000                   3.000000   \n",
       "75%          7.000000     5.000000      0.400000                   4.000000   \n",
       "max          7.000000     5.000000      0.400000                   5.000000   \n",
       "\n",
       "       Heating Load  \n",
       "count    384.000000  \n",
       "mean      22.920703  \n",
       "std       10.066099  \n",
       "min        6.400000  \n",
       "25%       14.057500  \n",
       "50%       23.605000  \n",
       "75%       32.052500  \n",
       "max       43.100000  "
      ]
     },
     "execution_count": 4,
     "metadata": {},
     "output_type": "execute_result"
    }
   ],
   "source": [
    "#### **** YOUR CODE HERE **** ####  \n",
    "\n",
    "#### **** You can add extra cells to illustrate your results **** ####  \n",
    "\n",
    "# Load dataset\n",
    "train = pd.read_csv('ee-train.csv')\n",
    "test = pd.read_csv('ee-test.csv')\n",
    "\n",
    "pre_X_train = train.iloc[:, 0:9]\n",
    "pre_X_test = test.iloc[:, 0:9]\n",
    "\n",
    "y_train = train.iloc[:, 9:10]\n",
    "y_test = test.iloc[:, 9:10]\n",
    "\n",
    "y_train = np.array(y_train).T.ravel()\n",
    "y_test = np.array(y_test).T.ravel()\n",
    "\n",
    "train.describe()"
   ]
  },
  {
   "cell_type": "code",
   "execution_count": 5,
   "metadata": {},
   "outputs": [],
   "source": [
    "# Normalize the dependent variables (X)\n",
    "from sklearn.preprocessing import normalize, RobustScaler, PowerTransformer\n",
    "\n",
    "transformer = PowerTransformer(method='yeo-johnson',\n",
    "                              standardize=True)\n",
    "\n",
    "# normalise X except constant bias\n",
    "norm_X_train = transformer.fit_transform(pre_X_train.iloc[:, 1:])\n",
    "norm_X_test = transformer.fit_transform(pre_X_test.iloc[:, 1:])\n",
    "norm_X_train = pd.DataFrame(norm_X_train, columns=pre_X_train.columns[1:])\n",
    "norm_X_test = pd.DataFrame(norm_X_test, columns=pre_X_test.columns[1:])"
   ]
  },
  {
   "cell_type": "code",
   "execution_count": 6,
   "metadata": {},
   "outputs": [],
   "source": [
    "X_train = np.concatenate((pre_X_train.iloc[:, 0:1], norm_X_train), axis = 1)\n",
    "X_test = np.concatenate((pre_X_test.iloc[:, 0:1], norm_X_test), axis = 1)"
   ]
  },
  {
   "cell_type": "markdown",
   "metadata": {},
   "source": [
    "# Task 6: Gaussian Processes\n",
    "\n",
    "###  **(3 marks)**\n",
    "\n",
    "There's no restriction on the GP implementation, you could either use the sklearn package or the Tensorflow style, the latter of which may receive extra bonus mark depending on the quality of implementation.  \n",
    "\n",
    "You only need to estimate the weights from $x0$ to $x8$ in this task, then calculate RMSE and plot supporting figures for your report. \n",
    "\n",
    "<font color=Red>  It is highly recommended that you impelment this part in a seperated file if your implementation contains too many extra libraries, as it may fool the auto-marker and incorrectly mark the rest of your notebook. \n",
    "<font>   \n",
    "    \n",
    "    \n"
   ]
  },
  {
   "cell_type": "code",
   "execution_count": 388,
   "metadata": {},
   "outputs": [],
   "source": [
    "from sklearn import gaussian_process as gp\n",
    "from sklearn.gaussian_process.kernels import WhiteKernel, ExpSineSquared, ConstantKernel, RBF, RationalQuadratic\n",
    "import seaborn as sns\n",
    "import matplotlib.pyplot as plt\n",
    "\n",
    "# reference: https://scikit-learn.org/stable/modules/gaussian_process.html#gpr-examples\n",
    "\n",
    "# kernel = ConstantKernel(3.0, (1e-1, 1e3)) * RBF(10.0, (1e-3, 1e3))\n",
    "kernel =  ConstantKernel(3.0, (1e-1, 1e3)) * RationalQuadratic(length_scale=1.0, alpha=1.5)\n",
    "\n",
    "# Parameters of GaussianProcessRegressor\n",
    "# - kernel: determine prior's covariance; hyperparameters optimised by maximising log-ML\n",
    "# - n_restart_optimizer: start optimizer repeatedly to avoid getting stuck at local optima\n",
    "# - normalize_y: True - prior mean assumed to be = training data's mean; False - assume prior mean = 0\n",
    "# - alpha: noise in target\n",
    "# - random_state: ensure reproducible results\n",
    "\n",
    "\n",
    "gpr = gp.GaussianProcessRegressor(kernel=kernel,\n",
    "                                  n_restarts_optimizer=10, \n",
    "                                  normalize_y=True,\n",
    "                                  random_state=1,\n",
    "                                  alpha=0.1\n",
    "                                  )\n"
   ]
  },
  {
   "cell_type": "code",
   "execution_count": 389,
   "metadata": {},
   "outputs": [],
   "source": [
    "# fit on training set\n",
    "gpr.fit(X_train, y_train)\n",
    "params = gp1.kernel_.get_params()\n"
   ]
  },
  {
   "cell_type": "code",
   "execution_count": 390,
   "metadata": {},
   "outputs": [],
   "source": [
    "# get predictions\n",
    "gpr_tr_y_pred, gpr_tr_std = gpr.predict(X_train, return_std=True)\n",
    "gpr_y_pred, gpr_std = gpr.predict(X_test, return_std=True)\n"
   ]
  },
  {
   "cell_type": "code",
   "execution_count": 394,
   "metadata": {},
   "outputs": [
    {
     "data": {
      "text/plain": [
       "1.98**2 * RationalQuadratic(alpha=0.377, length_scale=7.46)"
      ]
     },
     "execution_count": 394,
     "metadata": {},
     "output_type": "execute_result"
    }
   ],
   "source": [
    "# optimal kernel\n",
    "gpr.kernel_"
   ]
  },
  {
   "cell_type": "code",
   "execution_count": 391,
   "metadata": {},
   "outputs": [
    {
     "data": {
      "image/png": "[encoded data removed]",
      "text/plain": [
       "<Figure size 432x288 with 1 Axes>"
      ]
     },
     "metadata": {
      "needs_background": "light"
     },
     "output_type": "display_data"
    }
   ],
   "source": [
    "plt.figure()\n",
    "plt.errorbar(y_train, gpr_tr_y_pred, yerr=gpr_tr_std, fmt='o')\n",
    "# plt.title('Gaussian process regression, R2=%.2f' % r2_score(y_test, y_pred_te))\n",
    "plt.xlabel('Actual')\n",
    "plt.ylabel('Predicted')\n",
    "plt.title('Training: Actual vs Predicted')\n",
    "plt.show()"
   ]
  },
  {
   "cell_type": "code",
   "execution_count": 396,
   "metadata": {},
   "outputs": [
    {
     "data": {
      "image/png": "[encoded data removed]",
      "text/plain": [
       "<Figure size 432x288 with 1 Axes>"
      ]
     },
     "metadata": {
      "needs_background": "light"
     },
     "output_type": "display_data"
    }
   ],
   "source": [
    "# sns.regplot(x=gp1_y_pred, y=y_test, scatter_kws={\"color\": \"gray\"}, line_kws={\"color\": \"red\"})\n",
    "\n",
    "plt.figure()\n",
    "plt.errorbar(y_test, gpr_y_pred, yerr=gpr_std, fmt='o')\n",
    "# plt.title('Gaussian process regression, R2=%.2f' % r2_score(y_test, y_pred_te))\n",
    "plt.xlabel('Actual')\n",
    "plt.ylabel('Predicted')\n",
    "plt.title('Testing: Actual vs Predicted')\n",
    "plt.show()\n",
    "\n"
   ]
  },
  {
   "cell_type": "code",
   "execution_count": 397,
   "metadata": {},
   "outputs": [
    {
     "name": "stdout",
     "output_type": "stream",
     "text": [
      "Training RMSE:  2.400293396885176\n",
      "Testing RMSE:  2.550318050781843\n",
      "\n",
      "Training MSE:  5.761408391130575\n",
      "Testing MSE:  6.504122160143699\n",
      "\n",
      "Training MAE:  1.6408980425187272\n",
      "Testing MAE:  1.9530605575468034\n"
     ]
    }
   ],
   "source": [
    "# GP results\n",
    "\n",
    "gpr_train_rmse = mse(y_train, gpr_tr_y_pred, squared=False)\n",
    "gpr_test_rmse = mse(y_test, gpr_y_pred, squared=False)\n",
    "gpr_train_mse = mse(y_train, gpr_tr_y_pred)\n",
    "gpr_test_mse = mse(y_test, gpr_y_pred)\n",
    "gpr_train_mae = mae(y_train, gpr_tr_y_pred)\n",
    "gpr_test_mae = mae(y_test, gpr_y_pred)\n",
    "\n",
    "print('Training RMSE: ', gpr_train_rmse)\n",
    "print('Testing RMSE: ', gpr_test_rmse)\n",
    "print()\n",
    "print('Training MSE: ', gpr_train_mse)\n",
    "print('Testing MSE: ', gpr_test_mse)\n",
    "print()\n",
    "print('Training MAE: ', gpr_train_mae)\n",
    "print('Testing MAE: ', gpr_test_mae)\n"
   ]
  }
 ],
 "metadata": {
  "kernelspec": {
   "display_name": "Python 3 (ipykernel)",
   "language": "python",
   "name": "python3"
  },
  "language_info": {
   "codemirror_mode": {
    "name": "ipython",
    "version": 3
   },
   "file_extension": ".py",
   "mimetype": "text/x-python",
   "name": "python",
   "nbconvert_exporter": "python",
   "pygments_lexer": "ipython3",
   "version": "3.7.11"
  },
  "toc": {
   "base_numbering": 1,
   "nav_menu": {},
   "number_sections": true,
   "sideBar": true,
   "skip_h1_title": false,
   "title_cell": "Table of Contents",
   "title_sidebar": "Contents",
   "toc_cell": false,
   "toc_position": {
    "height": "calc(100% - 180px)",
    "left": "10px",
    "top": "150px",
    "width": "277px"
   },
   "toc_section_display": true,
   "toc_window_display": true
  },
  "varInspector": {
   "cols": {
    "lenName": 16,
    "lenType": 16,
    "lenVar": 40
   },
   "kernels_config": {
    "python": {
     "delete_cmd_postfix": "",
     "delete_cmd_prefix": "del ",
     "library": "var_list.py",
     "varRefreshCmd": "print(var_dic_list())"
    },
    "r": {
     "delete_cmd_postfix": ") ",
     "delete_cmd_prefix": "rm(",
     "library": "var_list.r",
     "varRefreshCmd": "cat(var_dic_list()) "
    }
   },
   "types_to_exclude": [
    "module",
    "function",
    "builtin_function_or_method",
    "instance",
    "_Feature"
   ],
   "window_display": false
  }
 },
 "nbformat": 4,
 "nbformat_minor": 4
}
