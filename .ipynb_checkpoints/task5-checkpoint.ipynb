{
 "cells": [
  {
   "cell_type": "code",
   "execution_count": 19,
   "id": "12aff7e7",
   "metadata": {},
   "outputs": [],
   "source": [
    "%matplotlib inline\n",
    "import numpy as np\n",
    "import pandas as pd\n",
    "import matplotlib.pyplot as plt\n",
    "from scipy import stats\n",
    "from sklearn.preprocessing import StandardScaler\n",
    "from sklearn.metrics import mean_squared_error, accuracy_score\n",
    "\n",
    "import hmc_Lab as hmc"
   ]
  },
  {
   "cell_type": "code",
   "execution_count": 20,
   "id": "3f1b78da",
   "metadata": {},
   "outputs": [],
   "source": [
    "df_train = pd.read_csv('ee-train.csv')\n",
    "df_test = pd.read_csv('ee-test.csv')"
   ]
  },
  {
   "cell_type": "code",
   "execution_count": 21,
   "id": "31c0c6fa",
   "metadata": {},
   "outputs": [
    {
     "name": "stdout",
     "output_type": "stream",
     "text": [
      "     const  Relative Compactness  Surface Area  Wall Area  Roof Area  \\\n",
      "0        1                  0.62         808.5      367.5      220.5   \n",
      "1        1                  0.90         563.5      318.5      122.5   \n",
      "2        1                  0.90         563.5      318.5      122.5   \n",
      "3        1                  0.79         637.0      343.0      147.0   \n",
      "4        1                  0.90         563.5      318.5      122.5   \n",
      "..     ...                   ...           ...        ...        ...   \n",
      "379      1                  0.62         808.5      367.5      220.5   \n",
      "380      1                  0.64         784.0      343.0      220.5   \n",
      "381      1                  0.62         808.5      367.5      220.5   \n",
      "382      1                  0.71         710.5      269.5      220.5   \n",
      "383      1                  0.90         563.5      318.5      122.5   \n",
      "\n",
      "     Overall Height  Orientation  Glazing Area  Glazing Area Distribution  \\\n",
      "0               3.5            3          0.10                          5   \n",
      "1               7.0            3          0.10                          2   \n",
      "2               7.0            3          0.40                          2   \n",
      "3               7.0            2          0.25                          2   \n",
      "4               7.0            4          0.40                          5   \n",
      "..              ...          ...           ...                        ...   \n",
      "379             3.5            4          0.40                          1   \n",
      "380             3.5            5          0.25                          2   \n",
      "381             3.5            5          0.10                          3   \n",
      "382             3.5            4          0.25                          3   \n",
      "383             7.0            5          0.25                          2   \n",
      "\n",
      "     Heating Load  \n",
      "0           12.74  \n",
      "1           29.68  \n",
      "2           36.57  \n",
      "3           38.57  \n",
      "4           34.72  \n",
      "..            ...  \n",
      "379         17.14  \n",
      "380         17.11  \n",
      "381         12.73  \n",
      "382         12.10  \n",
      "383         31.66  \n",
      "\n",
      "[384 rows x 10 columns]\n"
     ]
    }
   ],
   "source": [
    "print(df_train)"
   ]
  },
  {
   "cell_type": "code",
   "execution_count": 22,
   "id": "d2f85206",
   "metadata": {},
   "outputs": [],
   "source": [
    "X_train = np.array(df_train.iloc[:, :-1])\n",
    "y_train = np.array(df_train.iloc[:, -1])\n",
    "X_test = np.array(df_test.iloc[:, :-1])\n",
    "y_test = np.array(df_test.iloc[:, -1])\n",
    "\n",
    "scaler = StandardScaler() # Standardise input variables\n",
    "\n",
    "X_train = scaler.fit_transform(X_train)\n",
    "X_test = scaler.transform(X_test)"
   ]
  },
  {
   "cell_type": "markdown",
   "id": "56761662",
   "metadata": {},
   "source": [
    "### Change continuous target $y$ into discrete $[0, 1]$ for classifier"
   ]
  },
  {
   "cell_type": "code",
   "execution_count": 23,
   "id": "2b19a45d",
   "metadata": {},
   "outputs": [],
   "source": [
    "# if y > 23.0, positive 1, negative 0 otherwise\n",
    "for i, y in enumerate(y_train):\n",
    "    if y > 23.0:\n",
    "        y_train[i] = 1\n",
    "    else:\n",
    "        y_train[i] = 0\n",
    "\n",
    "for i, y in enumerate(y_test):\n",
    "    if y > 23.0:\n",
    "        y_test[i] = 1\n",
    "    else:\n",
    "        y_test[i] = 0\n",
    "        \n",
    "y_train = y_train.astype(int)\n",
    "y_test = y_test.astype(int)"
   ]
  },
  {
   "cell_type": "code",
   "execution_count": 24,
   "id": "18829c1c",
   "metadata": {},
   "outputs": [
    {
     "data": {
      "text/plain": [
       "array([0, 1, 1, 1, 1, 0, 0, 1, 0, 1, 0, 1, 1, 0, 0, 1, 1, 0, 0, 1, 1, 0,\n",
       "       1, 0, 0, 1, 0, 0, 1, 0, 1, 1, 0, 0, 1, 1, 0, 0, 1, 0, 1, 0, 0, 0,\n",
       "       0, 0, 0, 1, 1, 1, 0, 1, 0, 0, 1, 1, 1, 1, 0, 0, 0, 1, 0, 1, 1, 1,\n",
       "       1, 0, 1, 0, 1, 0, 0, 1, 0, 1, 1, 1, 0, 1, 0, 1, 0, 1, 0, 1, 1, 1,\n",
       "       0, 0, 1, 1, 0, 1, 0, 1, 0, 1, 0, 1, 1, 0, 1, 0, 0, 0, 1, 1, 1, 1,\n",
       "       1, 0, 1, 0, 1, 0, 1, 1, 1, 0, 1, 1, 0, 1, 1, 0, 0, 1, 0, 0, 1, 0,\n",
       "       1, 1, 0, 1, 1, 0, 1, 0, 0, 1, 0, 0, 0, 1, 0, 1, 1, 0, 0, 1, 1, 1,\n",
       "       0, 0, 1, 0, 1, 0, 0, 1, 1, 0, 1, 0, 1, 1, 0, 0, 0, 1, 1, 0, 0, 1,\n",
       "       0, 1, 1, 0, 1, 0, 1, 1, 1, 0, 0, 1, 0, 0, 0, 1, 1, 0, 0, 1, 0, 1,\n",
       "       0, 1, 0, 1, 0, 0, 0, 0, 1, 0, 0, 0, 1, 1, 1, 0, 0, 1, 0, 1, 0, 1,\n",
       "       1, 0, 1, 0, 1, 1, 1, 1, 0, 0, 1, 0, 0, 1, 1, 1, 0, 1, 1, 0, 1, 1,\n",
       "       1, 1, 0, 0, 0, 0, 0, 1, 1, 0, 0, 0, 0, 0, 1, 0, 1, 1, 0, 0, 1, 1,\n",
       "       0, 0, 1, 1, 1, 1, 1, 1, 0, 0, 0, 1, 1, 0, 1, 1, 0, 1, 0, 1, 0, 0,\n",
       "       1, 0, 0, 0, 0, 0, 1, 0, 1, 0, 0, 1, 0, 0, 0, 1, 0, 1, 0, 0, 0, 1,\n",
       "       1, 1, 1, 0, 0, 0, 0, 0, 0, 1, 1, 1, 0, 0, 1, 1, 1, 0, 1, 0, 0, 0,\n",
       "       1, 0, 1, 1, 0, 0, 1, 1, 1, 1, 1, 0, 0, 1, 1, 0, 0, 0, 0, 1, 1, 1,\n",
       "       0, 1, 1, 0, 1, 1, 1, 0, 0, 1, 1, 0, 1, 0, 1, 1, 1, 1, 0, 0, 1, 1,\n",
       "       0, 0, 0, 1, 1, 0, 0, 0, 0, 1])"
      ]
     },
     "execution_count": 24,
     "metadata": {},
     "output_type": "execute_result"
    }
   ],
   "source": [
    "y_train"
   ]
  },
  {
   "cell_type": "code",
   "execution_count": 25,
   "id": "078394f6",
   "metadata": {},
   "outputs": [
    {
     "data": {
      "text/plain": [
       "array([0, 0, 0, 0, 0, 0, 0, 1, 1, 1, 1, 0, 0, 0, 0, 0, 0, 0, 0, 0, 0, 0,\n",
       "       0, 1, 1, 1, 1, 1, 0, 1, 1, 1, 0, 0, 0, 0, 0, 0, 0, 0, 0, 0, 0, 0,\n",
       "       1, 1, 1, 1, 1, 1, 1, 1, 1, 0, 0, 0, 0, 0, 0, 0, 0, 0, 0, 0, 0, 0,\n",
       "       0, 0, 1, 1, 1, 1, 1, 1, 1, 1, 1, 1, 1, 1, 0, 0, 0, 0, 0, 0, 0, 0,\n",
       "       0, 0, 0, 0, 1, 1, 1, 1, 1, 1, 1, 1, 1, 1, 1, 1, 1, 1, 0, 0, 0, 0,\n",
       "       0, 0, 0, 0, 0, 0, 0, 0, 0, 0, 0, 0, 1, 1, 1, 1, 1, 1, 1, 1, 0, 1,\n",
       "       1, 1, 0, 0, 0, 0, 0, 0, 0, 0, 0, 0, 0, 0, 0, 0, 0, 1, 1, 1, 1, 1,\n",
       "       1, 1, 1, 1, 1, 1, 1, 0, 0, 0, 0, 0, 0, 0, 0, 0, 0, 0, 0, 0, 0, 1,\n",
       "       1, 1, 1, 1, 1, 1, 1, 1, 1, 1, 0, 0, 0, 0, 0, 0, 0, 0, 0, 0, 0, 1,\n",
       "       1, 1, 1, 1, 1, 1, 1, 1, 1, 1, 1, 0, 0, 0, 0, 0, 0, 0, 0, 0, 0, 0,\n",
       "       1, 1, 1, 1, 1, 1, 1, 1, 1, 1, 0, 0, 0, 0, 0, 0, 0, 0, 0, 0, 0, 0,\n",
       "       0, 0, 0, 0, 0, 1, 1, 1, 1, 1, 1, 1, 1, 1, 1, 1, 0, 0, 0, 0, 0, 0,\n",
       "       0, 0, 1, 1, 1, 1, 1, 1, 1, 1, 1, 0, 0, 0, 0, 0, 0, 0, 0, 0, 0, 0,\n",
       "       0, 0, 0, 1, 1, 1, 1, 1, 1, 1, 1, 1, 1, 1, 1, 0, 0, 0, 0, 0, 0, 0,\n",
       "       0, 0, 0, 0, 0, 1, 1, 1, 1, 1, 1, 1, 1, 1, 1, 1, 0, 0, 0, 0, 0, 0,\n",
       "       0, 0, 0, 0, 0, 0, 0, 0, 1, 1, 1, 1, 1, 1, 1, 1, 1, 1, 1, 1, 0, 0,\n",
       "       0, 0, 0, 0, 0, 0, 0, 0, 0, 1, 1, 1, 1, 1, 1, 1, 1, 1, 1, 1, 0, 0,\n",
       "       0, 0, 0, 0, 0, 0, 0, 0, 0, 0])"
      ]
     },
     "execution_count": 25,
     "metadata": {},
     "output_type": "execute_result"
    }
   ],
   "source": [
    "y_test"
   ]
  },
  {
   "cell_type": "markdown",
   "id": "7f39253b",
   "metadata": {},
   "source": [
    "### energy function using Bernoulli likelihood and sigmoid link function"
   ]
  },
  {
   "cell_type": "code",
   "execution_count": 26,
   "id": "834c787a",
   "metadata": {},
   "outputs": [],
   "source": [
    "def sigmoid(z):\n",
    "    return 1/(1+np.exp(-z))\n",
    "\n",
    "def e_func(w, X, t):\n",
    "    total = 0\n",
    "    for i, X_i in enumerate(X):\n",
    "        pred = w.T@X_i\n",
    "        sig_pred = sigmoid(pred)\n",
    "        ans = t[i] * np.log(sig_pred) + (1-t[i]) * np.log(1-sig_pred)\n",
    "        total += ans\n",
    "    \n",
    "    return -total\n",
    "        \n",
    "def e_grad(w, X, t):\n",
    "    ans = np.sum((t-sigmoid(X@w)).reshape(-1, 1)*X, axis=0)\n",
    "    return -ans"
   ]
  },
  {
   "cell_type": "code",
   "execution_count": 27,
   "id": "32191111",
   "metadata": {},
   "outputs": [],
   "source": [
    "X = X_train\n",
    "t = y_train"
   ]
  },
  {
   "cell_type": "code",
   "execution_count": 43,
   "id": "007b6f85",
   "metadata": {},
   "outputs": [
    {
     "data": {
      "text/plain": [
       "array([[ 0.        , -1.41937931,  1.6203718 , ..., -0.4893512 ,\n",
       "        -1.02791772,  1.41564811],\n",
       "       [ 0.        ,  1.21185627, -1.16113366, ..., -0.4893512 ,\n",
       "        -1.02791772, -0.5007169 ],\n",
       "       [ 0.        ,  1.21185627, -1.16113366, ..., -0.4893512 ,\n",
       "         1.22548135, -0.5007169 ],\n",
       "       ...,\n",
       "       [ 0.        , -1.41937931,  1.6203718 , ...,  1.33502609,\n",
       "        -1.02791772,  0.13807144],\n",
       "       [ 0.        , -0.57362502,  0.50776962, ...,  0.42283744,\n",
       "         0.09878182,  0.13807144],\n",
       "       [ 0.        ,  1.21185627, -1.16113366, ...,  1.33502609,\n",
       "         0.09878182, -0.5007169 ]])"
      ]
     },
     "execution_count": 43,
     "metadata": {},
     "output_type": "execute_result"
    }
   ],
   "source": [
    "X"
   ]
  },
  {
   "cell_type": "code",
   "execution_count": 44,
   "id": "6cae0c8a",
   "metadata": {},
   "outputs": [
    {
     "data": {
      "text/plain": [
       "array([0, 1, 1, 1, 1, 0, 0, 1, 0, 1, 0, 1, 1, 0, 0, 1, 1, 0, 0, 1, 1, 0,\n",
       "       1, 0, 0, 1, 0, 0, 1, 0, 1, 1, 0, 0, 1, 1, 0, 0, 1, 0, 1, 0, 0, 0,\n",
       "       0, 0, 0, 1, 1, 1, 0, 1, 0, 0, 1, 1, 1, 1, 0, 0, 0, 1, 0, 1, 1, 1,\n",
       "       1, 0, 1, 0, 1, 0, 0, 1, 0, 1, 1, 1, 0, 1, 0, 1, 0, 1, 0, 1, 1, 1,\n",
       "       0, 0, 1, 1, 0, 1, 0, 1, 0, 1, 0, 1, 1, 0, 1, 0, 0, 0, 1, 1, 1, 1,\n",
       "       1, 0, 1, 0, 1, 0, 1, 1, 1, 0, 1, 1, 0, 1, 1, 0, 0, 1, 0, 0, 1, 0,\n",
       "       1, 1, 0, 1, 1, 0, 1, 0, 0, 1, 0, 0, 0, 1, 0, 1, 1, 0, 0, 1, 1, 1,\n",
       "       0, 0, 1, 0, 1, 0, 0, 1, 1, 0, 1, 0, 1, 1, 0, 0, 0, 1, 1, 0, 0, 1,\n",
       "       0, 1, 1, 0, 1, 0, 1, 1, 1, 0, 0, 1, 0, 0, 0, 1, 1, 0, 0, 1, 0, 1,\n",
       "       0, 1, 0, 1, 0, 0, 0, 0, 1, 0, 0, 0, 1, 1, 1, 0, 0, 1, 0, 1, 0, 1,\n",
       "       1, 0, 1, 0, 1, 1, 1, 1, 0, 0, 1, 0, 0, 1, 1, 1, 0, 1, 1, 0, 1, 1,\n",
       "       1, 1, 0, 0, 0, 0, 0, 1, 1, 0, 0, 0, 0, 0, 1, 0, 1, 1, 0, 0, 1, 1,\n",
       "       0, 0, 1, 1, 1, 1, 1, 1, 0, 0, 0, 1, 1, 0, 1, 1, 0, 1, 0, 1, 0, 0,\n",
       "       1, 0, 0, 0, 0, 0, 1, 0, 1, 0, 0, 1, 0, 0, 0, 1, 0, 1, 0, 0, 0, 1,\n",
       "       1, 1, 1, 0, 0, 0, 0, 0, 0, 1, 1, 1, 0, 0, 1, 1, 1, 0, 1, 0, 0, 0,\n",
       "       1, 0, 1, 1, 0, 0, 1, 1, 1, 1, 1, 0, 0, 1, 1, 0, 0, 0, 0, 1, 1, 1,\n",
       "       0, 1, 1, 0, 1, 1, 1, 0, 0, 1, 1, 0, 1, 0, 1, 1, 1, 1, 0, 0, 1, 1,\n",
       "       0, 0, 0, 1, 1, 0, 0, 0, 0, 1])"
      ]
     },
     "execution_count": 44,
     "metadata": {},
     "output_type": "execute_result"
    }
   ],
   "source": [
    "t"
   ]
  },
  {
   "cell_type": "code",
   "execution_count": 29,
   "id": "0d1047db",
   "metadata": {},
   "outputs": [
    {
     "data": {
      "text/plain": [
       "(384, 9)"
      ]
     },
     "execution_count": 29,
     "metadata": {},
     "output_type": "execute_result"
    }
   ],
   "source": [
    "X.shape"
   ]
  },
  {
   "cell_type": "code",
   "execution_count": 30,
   "id": "579f7ea5",
   "metadata": {},
   "outputs": [
    {
     "data": {
      "text/plain": [
       "(384,)"
      ]
     },
     "execution_count": 30,
     "metadata": {},
     "output_type": "execute_result"
    }
   ],
   "source": [
    "t.shape"
   ]
  },
  {
   "cell_type": "code",
   "execution_count": 31,
   "id": "39c0cb2a",
   "metadata": {},
   "outputs": [
    {
     "name": "stdout",
     "output_type": "stream",
     "text": [
      "[0. 0. 0. 0. 0. 0. 0. 0. 0.]\n",
      "Calc.         Numeric       Delta         Acc.\n",
      "          -0             0  \u001b[37m 0.000000e+00\u001b[0m  16\n",
      "     -146.86       -146.86  \u001b[37m 2.853218e-08\u001b[0m  10\n",
      "     153.219       153.219  \u001b[37m 3.354142e-07\u001b[0m   9\n",
      "    -53.1448      -53.1448  \u001b[37m-1.457336e-07\u001b[0m   9\n",
      "     175.673       175.673  \u001b[37m 1.607642e-07\u001b[0m  10\n",
      "    -180.334      -180.334  \u001b[37m 2.863047e-07\u001b[0m   9\n",
      "      -7.231        -7.231  \u001b[37m-1.041556e-07\u001b[0m   8\n",
      "    -16.1591      -16.1591  \u001b[37m-1.344711e-07\u001b[0m   9\n",
      "    -11.4549      -11.4549  \u001b[37m-5.758758e-08\u001b[0m   9\n"
     ]
    }
   ],
   "source": [
    "w = np.zeros(9)\n",
    "print(w)\n",
    "hmc.gradient_check(w, e_func, e_grad, X, t)"
   ]
  },
  {
   "cell_type": "code",
   "execution_count": 38,
   "id": "a1bd0c8f",
   "metadata": {},
   "outputs": [
    {
     "data": {
      "text/plain": [
       "array([0., 0., 0., 0., 0., 0., 0., 0., 0.])"
      ]
     },
     "execution_count": 38,
     "metadata": {},
     "output_type": "execute_result"
    }
   ],
   "source": [
    "w"
   ]
  },
  {
   "cell_type": "code",
   "execution_count": 41,
   "id": "11587c50",
   "metadata": {},
   "outputs": [
    {
     "data": {
      "text/plain": [
       "266.16851733501954"
      ]
     },
     "execution_count": 41,
     "metadata": {},
     "output_type": "execute_result"
    }
   ],
   "source": [
    "e_func(w,X,t)"
   ]
  },
  {
   "cell_type": "code",
   "execution_count": 42,
   "id": "e86ba9f4",
   "metadata": {},
   "outputs": [
    {
     "data": {
      "text/plain": [
       "array([  -0.        , -146.85975106,  153.21893827,  -53.14480805,\n",
       "        175.67305901, -180.33420969,   -7.23099539,  -16.15914039,\n",
       "        -11.4549388 ])"
      ]
     },
     "execution_count": 42,
     "metadata": {},
     "output_type": "execute_result"
    }
   ],
   "source": [
    "e_grad(w,X,t)"
   ]
  },
  {
   "cell_type": "code",
   "execution_count": 32,
   "id": "25283187",
   "metadata": {},
   "outputs": [
    {
     "data": {
      "text/plain": [
       "(9,)"
      ]
     },
     "execution_count": 32,
     "metadata": {},
     "output_type": "execute_result"
    }
   ],
   "source": [
    "w.shape"
   ]
  },
  {
   "cell_type": "code",
   "execution_count": 45,
   "id": "72b2462c",
   "metadata": {},
   "outputs": [
    {
     "data": {
      "text/plain": [
       "array([0., 0., 0., 0., 0., 0., 0., 0., 0.])"
      ]
     },
     "execution_count": 45,
     "metadata": {},
     "output_type": "execute_result"
    }
   ],
   "source": [
    "w"
   ]
  },
  {
   "cell_type": "code",
   "execution_count": 33,
   "id": "03698c6b",
   "metadata": {},
   "outputs": [
    {
     "name": "stderr",
     "output_type": "stream",
     "text": [
      "/Users/Sayuri/opt/anaconda3/envs/tensorflow/lib/python3.7/site-packages/ipykernel_launcher.py:9: RuntimeWarning: divide by zero encountered in log\n",
      "  if __name__ == '__main__':\n",
      "/Users/Sayuri/opt/anaconda3/envs/tensorflow/lib/python3.7/site-packages/ipykernel_launcher.py:9: RuntimeWarning: invalid value encountered in multiply\n",
      "  if __name__ == '__main__':\n"
     ]
    },
    {
     "name": "stdout",
     "output_type": "stream",
     "text": [
      "|----------|  0% accepted [ 120 secs to go ]\n",
      "|#---------| 94% accepted [ 113 secs to go ]\n",
      "|##--------| 94% accepted [ 104 secs to go ]\n",
      "|###-------| 93% accepted [ 90 secs to go ]\n",
      "|####------| 93% accepted [ 77 secs to go ]\n",
      "|#####-----| 94% accepted [ 64 secs to go ]\n",
      "|######----| 94% accepted [ 51 secs to go ]\n",
      "|#######---| 94% accepted [ 38 secs to go ]\n",
      "|########--| 94% accepted [ 25 secs to go ]\n",
      "|#########-| 94% accepted [ 13 secs to go ]\n",
      "|##########| 94% accepted [ 0 secs to go ]\n",
      "HMC: R=10000 / L=100 / eps=0.009 / Accept=94.2%\n"
     ]
    }
   ],
   "source": [
    "np.random.seed(seed=1)  # For reproducibility\n",
    "R = 10000\n",
    "burn = int(R/10)\n",
    "L = 100\n",
    "eps = 0.009\n",
    "\n",
    "S, *_ = hmc.sample(w, e_func, e_grad, R, L, eps, burn=burn, checkgrad=False, args=[X, t])"
   ]
  },
  {
   "cell_type": "code",
   "execution_count": 34,
   "id": "b02b27f6",
   "metadata": {},
   "outputs": [],
   "source": [
    "w_mean_opt = np.mean(S, axis=0)\n",
    "y_test_pred = sigmoid(X_test@w_mean_opt)"
   ]
  },
  {
   "cell_type": "code",
   "execution_count": 35,
   "id": "469886bd",
   "metadata": {},
   "outputs": [
    {
     "data": {
      "text/plain": [
       "array([16.64304023, -4.50772574, -4.5719723 ,  1.88130123, -2.9371479 ,\n",
       "       10.32206202,  0.21207908,  7.566399  , -0.03090574])"
      ]
     },
     "execution_count": 35,
     "metadata": {},
     "output_type": "execute_result"
    }
   ],
   "source": [
    "w_mean_opt"
   ]
  },
  {
   "cell_type": "code",
   "execution_count": 36,
   "id": "dae78416",
   "metadata": {},
   "outputs": [],
   "source": [
    "for i, y in enumerate(y_test_pred):\n",
    "    if y > 0.5:\n",
    "        y_test_pred[i] = 1\n",
    "    else:\n",
    "        y_test_pred[i] = 0"
   ]
  },
  {
   "cell_type": "code",
   "execution_count": 37,
   "id": "5bc922e8",
   "metadata": {},
   "outputs": [
    {
     "name": "stdout",
     "output_type": "stream",
     "text": [
      "test classification rate = 0.9921875\n"
     ]
    }
   ],
   "source": [
    "print(\"test classification rate =\", accuracy_score(y_test, y_test_pred))"
   ]
  },
  {
   "cell_type": "code",
   "execution_count": 46,
   "id": "6665249a",
   "metadata": {},
   "outputs": [
    {
     "data": {
      "text/plain": [
       "15.96083942062822"
      ]
     },
     "execution_count": 46,
     "metadata": {},
     "output_type": "execute_result"
    }
   ],
   "source": [
    "def RMSE(X, y, Mu):\n",
    "    N, M = X.shape\n",
    "    pred = np.dot(X, Mu)\n",
    "    sq_err = np.square(y - pred)\n",
    "    return np.sqrt(np.sum(sq_err)/N)\n",
    "\n",
    "RMSE(X_test, y_test, w_mean_opt)"
   ]
  }
 ],
 "metadata": {
  "kernelspec": {
   "display_name": "Python 3 (ipykernel)",
   "language": "python",
   "name": "python3"
  },
  "language_info": {
   "codemirror_mode": {
    "name": "ipython",
    "version": 3
   },
   "file_extension": ".py",
   "mimetype": "text/x-python",
   "name": "python",
   "nbconvert_exporter": "python",
   "pygments_lexer": "ipython3",
   "version": "3.7.11"
  }
 },
 "nbformat": 4,
 "nbformat_minor": 5
}
