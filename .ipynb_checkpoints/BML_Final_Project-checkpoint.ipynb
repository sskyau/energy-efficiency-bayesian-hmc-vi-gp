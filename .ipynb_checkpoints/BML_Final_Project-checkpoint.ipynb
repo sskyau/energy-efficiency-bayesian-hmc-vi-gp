{
 "cells": [
  {
   "cell_type": "markdown",
   "metadata": {},
   "source": [
    "# CM50268 :: Final project (group work)\n",
    "\n",
    "**Total Marks 25 (25% of overall unit grade).** \n",
    "\n",
    "*Submission deadline: 8pm, May 10, 2022. Please submit this file along with your individual report in Moodle*"
   ]
  },
  {
   "cell_type": "markdown",
   "metadata": {},
   "source": [
    "## Submission & Marking\n",
    "\n",
    "This group exercise is assessed, and the marks will contribute to your final grade. For this exercise there are a number of places where you are expected to enter your own code. Please see the BML Final Project Specification document for details. \n",
    "\n",
    "Every place you have to add code is described in the text and specifically indicated by the comment:\n",
    "\n",
    "`#### **** YOUR CODE HERE **** ####`\n",
    "\n",
    "\n",
    "**Please submit your completed workbook using Moodle before 8pm on May 10, 2022 along with your individual report**. The workbook you submit must be this `.ipynb` file, which is saved into the directory you're running Jupyter; alternatively you can download it from the menu above using `File -> Download As -> Notebook (.ipynb)`. Remember to save your work regularly (Save and Checkpoint in the File menu, the icon of a floppy disk, or Ctrl-S); the version you submit should have all code blocks showing the results (if any) of execution below them.\n",
    "\n",
    "**You should take care to avoid any suggestion of plagiarism in your submission.** There is helpful information on how to avoid plagiarism on the University website: http://www.bath.ac.uk/library/help/infoguides/plagiarism.html"
   ]
  },
  {
   "cell_type": "markdown",
   "metadata": {},
   "source": [
    "# Project setup\n",
    "\n",
    "This coursework involves the evaluation of Bayesian modelling methods on a real multivariate regression task. Please check the pdf file for the details of the project.\n",
    "\n",
    "- <font color=Red> Please try to use fixed random seeds to make your results reproducible </font>\n",
    "\n",
    "- <font color=Red> Please do NOT change the name of the fixed variables, as Task 2 - Task 5 of this coding exercises are auto-marked </font>\n",
    "\n",
    "The marks for Task 1 and Task 6 will be awarded based only on the content of the report."
   ]
  },
  {
   "cell_type": "code",
   "execution_count": 2,
   "metadata": {
    "ExecuteTime": {
     "end_time": "2022-04-06T16:04:14.843249Z",
     "start_time": "2022-04-06T16:04:13.852342Z"
    }
   },
   "outputs": [],
   "source": [
    "import pandas as pd\n",
    "import numpy as np\n",
    "import matplotlib.pyplot as plt\n",
    "\n",
    "from scipy import stats\n",
    "\n",
    "import hmc_Lab as hmc"
   ]
  },
  {
   "cell_type": "markdown",
   "metadata": {},
   "source": [
    "# Task 1 : Exploratory analysis (Section 4.1 in the specification doc)\n",
    "\n",
    "Undertake an initial exploratory analysis of the training data and summarise. Code in Task 1 will NOT by auto-marked. Results of Task 1 will be assessed along with your individual report, i.e., 4 marks in total. \n",
    "\n",
    " - <font color=Red> Please perserve the variables `X_train` and  `y_train` representing the normalised data in numpy array, as required for the following exercises  </font>\n",
    "\n",
    " - `X_train` is an np.array with shape (384, 9). The 1st column is a constant (bias) $x_0$ and the 2nd to the 9th columns are data variables $x_1,x_2,\\dots,x_8$\n",
    "\n",
    " - `y_train` is also an np.array with shape (384,), representing the target variable $y$ "
   ]
  },
  {
   "cell_type": "code",
   "execution_count": 143,
   "metadata": {
    "ExecuteTime": {
     "end_time": "2022-04-06T16:04:14.847098Z",
     "start_time": "2022-04-06T16:04:14.845333Z"
    }
   },
   "outputs": [
    {
     "data": {
      "text/html": [
       "<div>\n",
       "<style scoped>\n",
       "    .dataframe tbody tr th:only-of-type {\n",
       "        vertical-align: middle;\n",
       "    }\n",
       "\n",
       "    .dataframe tbody tr th {\n",
       "        vertical-align: top;\n",
       "    }\n",
       "\n",
       "    .dataframe thead th {\n",
       "        text-align: right;\n",
       "    }\n",
       "</style>\n",
       "<table border=\"1\" class=\"dataframe\">\n",
       "  <thead>\n",
       "    <tr style=\"text-align: right;\">\n",
       "      <th></th>\n",
       "      <th>const</th>\n",
       "      <th>Relative Compactness</th>\n",
       "      <th>Surface Area</th>\n",
       "      <th>Wall Area</th>\n",
       "      <th>Roof Area</th>\n",
       "      <th>Overall Height</th>\n",
       "      <th>Orientation</th>\n",
       "      <th>Glazing Area</th>\n",
       "      <th>Glazing Area Distribution</th>\n",
       "      <th>Heating Load</th>\n",
       "    </tr>\n",
       "  </thead>\n",
       "  <tbody>\n",
       "    <tr>\n",
       "      <th>count</th>\n",
       "      <td>384.0</td>\n",
       "      <td>384.000000</td>\n",
       "      <td>384.000000</td>\n",
       "      <td>384.000000</td>\n",
       "      <td>384.000000</td>\n",
       "      <td>384.000000</td>\n",
       "      <td>384.000000</td>\n",
       "      <td>384.000000</td>\n",
       "      <td>384.000000</td>\n",
       "      <td>384.000000</td>\n",
       "    </tr>\n",
       "    <tr>\n",
       "      <th>mean</th>\n",
       "      <td>1.0</td>\n",
       "      <td>0.771042</td>\n",
       "      <td>665.774740</td>\n",
       "      <td>318.180990</td>\n",
       "      <td>173.796875</td>\n",
       "      <td>5.377604</td>\n",
       "      <td>3.536458</td>\n",
       "      <td>0.236849</td>\n",
       "      <td>2.783854</td>\n",
       "      <td>22.920703</td>\n",
       "    </tr>\n",
       "    <tr>\n",
       "      <th>std</th>\n",
       "      <td>0.0</td>\n",
       "      <td>0.106553</td>\n",
       "      <td>88.196712</td>\n",
       "      <td>42.248972</td>\n",
       "      <td>44.852410</td>\n",
       "      <td>1.747619</td>\n",
       "      <td>1.097695</td>\n",
       "      <td>0.133306</td>\n",
       "      <td>1.567506</td>\n",
       "      <td>10.066099</td>\n",
       "    </tr>\n",
       "    <tr>\n",
       "      <th>min</th>\n",
       "      <td>1.0</td>\n",
       "      <td>0.620000</td>\n",
       "      <td>514.500000</td>\n",
       "      <td>245.000000</td>\n",
       "      <td>110.250000</td>\n",
       "      <td>3.500000</td>\n",
       "      <td>2.000000</td>\n",
       "      <td>0.000000</td>\n",
       "      <td>0.000000</td>\n",
       "      <td>6.400000</td>\n",
       "    </tr>\n",
       "    <tr>\n",
       "      <th>25%</th>\n",
       "      <td>1.0</td>\n",
       "      <td>0.690000</td>\n",
       "      <td>588.000000</td>\n",
       "      <td>294.000000</td>\n",
       "      <td>140.875000</td>\n",
       "      <td>3.500000</td>\n",
       "      <td>3.000000</td>\n",
       "      <td>0.100000</td>\n",
       "      <td>1.000000</td>\n",
       "      <td>14.057500</td>\n",
       "    </tr>\n",
       "    <tr>\n",
       "      <th>50%</th>\n",
       "      <td>1.0</td>\n",
       "      <td>0.760000</td>\n",
       "      <td>661.500000</td>\n",
       "      <td>318.500000</td>\n",
       "      <td>147.000000</td>\n",
       "      <td>7.000000</td>\n",
       "      <td>4.000000</td>\n",
       "      <td>0.250000</td>\n",
       "      <td>3.000000</td>\n",
       "      <td>23.605000</td>\n",
       "    </tr>\n",
       "    <tr>\n",
       "      <th>75%</th>\n",
       "      <td>1.0</td>\n",
       "      <td>0.860000</td>\n",
       "      <td>735.000000</td>\n",
       "      <td>343.000000</td>\n",
       "      <td>220.500000</td>\n",
       "      <td>7.000000</td>\n",
       "      <td>5.000000</td>\n",
       "      <td>0.400000</td>\n",
       "      <td>4.000000</td>\n",
       "      <td>32.052500</td>\n",
       "    </tr>\n",
       "    <tr>\n",
       "      <th>max</th>\n",
       "      <td>1.0</td>\n",
       "      <td>0.980000</td>\n",
       "      <td>808.500000</td>\n",
       "      <td>416.500000</td>\n",
       "      <td>220.500000</td>\n",
       "      <td>7.000000</td>\n",
       "      <td>5.000000</td>\n",
       "      <td>0.400000</td>\n",
       "      <td>5.000000</td>\n",
       "      <td>43.100000</td>\n",
       "    </tr>\n",
       "  </tbody>\n",
       "</table>\n",
       "</div>"
      ],
      "text/plain": [
       "       const  Relative Compactness  Surface Area   Wall Area   Roof Area  \\\n",
       "count  384.0            384.000000    384.000000  384.000000  384.000000   \n",
       "mean     1.0              0.771042    665.774740  318.180990  173.796875   \n",
       "std      0.0              0.106553     88.196712   42.248972   44.852410   \n",
       "min      1.0              0.620000    514.500000  245.000000  110.250000   \n",
       "25%      1.0              0.690000    588.000000  294.000000  140.875000   \n",
       "50%      1.0              0.760000    661.500000  318.500000  147.000000   \n",
       "75%      1.0              0.860000    735.000000  343.000000  220.500000   \n",
       "max      1.0              0.980000    808.500000  416.500000  220.500000   \n",
       "\n",
       "       Overall Height  Orientation  Glazing Area  Glazing Area Distribution  \\\n",
       "count      384.000000   384.000000    384.000000                 384.000000   \n",
       "mean         5.377604     3.536458      0.236849                   2.783854   \n",
       "std          1.747619     1.097695      0.133306                   1.567506   \n",
       "min          3.500000     2.000000      0.000000                   0.000000   \n",
       "25%          3.500000     3.000000      0.100000                   1.000000   \n",
       "50%          7.000000     4.000000      0.250000                   3.000000   \n",
       "75%          7.000000     5.000000      0.400000                   4.000000   \n",
       "max          7.000000     5.000000      0.400000                   5.000000   \n",
       "\n",
       "       Heating Load  \n",
       "count    384.000000  \n",
       "mean      22.920703  \n",
       "std       10.066099  \n",
       "min        6.400000  \n",
       "25%       14.057500  \n",
       "50%       23.605000  \n",
       "75%       32.052500  \n",
       "max       43.100000  "
      ]
     },
     "execution_count": 143,
     "metadata": {},
     "output_type": "execute_result"
    }
   ],
   "source": [
    "#### **** YOUR CODE HERE **** ####  \n",
    "\n",
    "#### **** You can add extra cells to illustrate your results **** ####  \n",
    "\n",
    "# Load dataset\n",
    "train = pd.read_csv('ee-train.csv')\n",
    "test = pd.read_csv('ee-test.csv')\n",
    "\n",
    "pre_X_train = train.iloc[:, 0:9]\n",
    "y_train = train.iloc[:, 9:10]\n",
    "pre_X_test = test.iloc[:, 0:9]\n",
    "y_test = test.iloc[:, 9:10]\n",
    "\n",
    "train.describe()"
   ]
  },
  {
   "cell_type": "code",
   "execution_count": 113,
   "metadata": {},
   "outputs": [
    {
     "data": {
      "text/plain": [
       "<seaborn.axisgrid.PairGrid at 0x7f7f5ba75890>"
      ]
     },
     "execution_count": 113,
     "metadata": {},
     "output_type": "execute_result"
    },
    {
     "data": {
      "image/png": "[encoded data removed]",
      "text/plain": [
       "<Figure size 720x576 with 2 Axes>"
      ]
     },
     "metadata": {
      "needs_background": "light"
     },
     "output_type": "display_data"
    },
    {
     "data": {
      "image/png": "[encoded data removed]",
      "text/plain": [
       "<Figure size 1620x1620 with 54 Axes>"
      ]
     },
     "metadata": {
      "needs_background": "light"
     },
     "output_type": "display_data"
    }
   ],
   "source": [
    "# Visualize the variables, excecpt x0 (the constant bias)\n",
    "import matplotlib.pyplot as plt\n",
    "import seaborn as sns\n",
    "\n",
    "cmap = sns.diverging_palette(220, 10, as_cmap=True)\n",
    "\n",
    "# Correlation between variables\n",
    "\n",
    "# (1) Correlation Matrix\n",
    "corr = train.iloc[:, 1:10].corr()\n",
    "mask = np.triu(np.ones_like(corr, dtype='bool'))\n",
    "\n",
    "fig, ax = plt.subplots(figsize=(10,8)) \n",
    "sns.heatmap(corr, \n",
    "            annot=True, \n",
    "            cmap=cmap, \n",
    "            fmt='.2g', \n",
    "            ax=ax, \n",
    "            mask=mask, \n",
    "            square=True)\n",
    "\n",
    "# (2) Pairplot\n",
    "sns.pairplot(train.iloc[:, 1:10],\n",
    "             corner = True)"
   ]
  },
  {
   "cell_type": "code",
   "execution_count": 114,
   "metadata": {},
   "outputs": [
    {
     "data": {
      "image/png": "[encoded data removed]",
      "text/plain": [
       "<Figure size 432x288 with 1 Axes>"
      ]
     },
     "metadata": {
      "needs_background": "light"
     },
     "output_type": "display_data"
    }
   ],
   "source": [
    "# Distribution of target variable (Y)\n",
    "y_train.hist(bins=6)\n",
    "plt.show()\n",
    "\n",
    "# Findings: bi-modal distributino"
   ]
  },
  {
   "cell_type": "code",
   "execution_count": 147,
   "metadata": {},
   "outputs": [],
   "source": [
    "# Normalize the dependent variables (X)\n",
    "\n",
    "# Box-Cox transformation\n",
    "from sklearn.preprocessing import normalize, RobustScaler, PowerTransformer\n",
    "\n",
    "# transformer = RobustScaler(with_centering=True,\n",
    "#                            unit_variance=True)\n",
    "\n",
    "transformer = PowerTransformer(method='yeo-johnson',\n",
    "                              standardize=True)\n",
    "\n",
    "norm_X_train = transformer.fit_transform(pre_X_train.iloc[:, 1:])\n",
    "norm_X_test = transformer.fit_transform(pre_X_test.iloc[:, 1:])\n",
    "#norm_X_train = normalize(pre_X_train.iloc[:, 1:], axis=0)\n",
    "#norm_X_test = transformer.fit_transform(pre_X_test.iloc[:, 1:])\n",
    "\n"
   ]
  },
  {
   "cell_type": "code",
   "execution_count": 158,
   "metadata": {},
   "outputs": [
    {
     "name": "stdout",
     "output_type": "stream",
     "text": [
      "Descriptive statistics of X_train after normalisation:\n"
     ]
    },
    {
     "data": {
      "text/html": [
       "<div>\n",
       "<style scoped>\n",
       "    .dataframe tbody tr th:only-of-type {\n",
       "        vertical-align: middle;\n",
       "    }\n",
       "\n",
       "    .dataframe tbody tr th {\n",
       "        vertical-align: top;\n",
       "    }\n",
       "\n",
       "    .dataframe thead th {\n",
       "        text-align: right;\n",
       "    }\n",
       "</style>\n",
       "<table border=\"1\" class=\"dataframe\">\n",
       "  <thead>\n",
       "    <tr style=\"text-align: right;\">\n",
       "      <th></th>\n",
       "      <th>Relative Compactness</th>\n",
       "      <th>Surface Area</th>\n",
       "      <th>Wall Area</th>\n",
       "      <th>Roof Area</th>\n",
       "      <th>Overall Height</th>\n",
       "      <th>Orientation</th>\n",
       "      <th>Glazing Area</th>\n",
       "      <th>Glazing Area Distribution</th>\n",
       "    </tr>\n",
       "  </thead>\n",
       "  <tbody>\n",
       "    <tr>\n",
       "      <th>count</th>\n",
       "      <td>384.00</td>\n",
       "      <td>384.00</td>\n",
       "      <td>384.00</td>\n",
       "      <td>384.00</td>\n",
       "      <td>384.00</td>\n",
       "      <td>384.00</td>\n",
       "      <td>384.00</td>\n",
       "      <td>384.00</td>\n",
       "    </tr>\n",
       "    <tr>\n",
       "      <th>mean</th>\n",
       "      <td>-0.00</td>\n",
       "      <td>0.00</td>\n",
       "      <td>0.00</td>\n",
       "      <td>-0.00</td>\n",
       "      <td>0.00</td>\n",
       "      <td>0.00</td>\n",
       "      <td>0.00</td>\n",
       "      <td>-0.00</td>\n",
       "    </tr>\n",
       "    <tr>\n",
       "      <th>std</th>\n",
       "      <td>1.00</td>\n",
       "      <td>1.00</td>\n",
       "      <td>1.00</td>\n",
       "      <td>1.00</td>\n",
       "      <td>1.00</td>\n",
       "      <td>1.00</td>\n",
       "      <td>1.00</td>\n",
       "      <td>1.00</td>\n",
       "    </tr>\n",
       "    <tr>\n",
       "      <th>min</th>\n",
       "      <td>-1.61</td>\n",
       "      <td>-1.72</td>\n",
       "      <td>-2.04</td>\n",
       "      <td>-1.48</td>\n",
       "      <td>-1.08</td>\n",
       "      <td>-1.43</td>\n",
       "      <td>-1.74</td>\n",
       "      <td>-1.88</td>\n",
       "    </tr>\n",
       "    <tr>\n",
       "      <th>25%</th>\n",
       "      <td>-0.73</td>\n",
       "      <td>-0.88</td>\n",
       "      <td>-0.52</td>\n",
       "      <td>-0.71</td>\n",
       "      <td>-1.08</td>\n",
       "      <td>-0.47</td>\n",
       "      <td>-1.03</td>\n",
       "      <td>-1.14</td>\n",
       "    </tr>\n",
       "    <tr>\n",
       "      <th>50%</th>\n",
       "      <td>0.01</td>\n",
       "      <td>-0.05</td>\n",
       "      <td>0.11</td>\n",
       "      <td>-0.56</td>\n",
       "      <td>0.93</td>\n",
       "      <td>0.44</td>\n",
       "      <td>0.08</td>\n",
       "      <td>0.17</td>\n",
       "    </tr>\n",
       "    <tr>\n",
       "      <th>75%</th>\n",
       "      <td>0.89</td>\n",
       "      <td>0.79</td>\n",
       "      <td>0.66</td>\n",
       "      <td>1.03</td>\n",
       "      <td>0.93</td>\n",
       "      <td>1.31</td>\n",
       "      <td>1.24</td>\n",
       "      <td>0.78</td>\n",
       "    </tr>\n",
       "    <tr>\n",
       "      <th>max</th>\n",
       "      <td>1.73</td>\n",
       "      <td>1.62</td>\n",
       "      <td>2.03</td>\n",
       "      <td>1.03</td>\n",
       "      <td>0.93</td>\n",
       "      <td>1.31</td>\n",
       "      <td>1.24</td>\n",
       "      <td>1.37</td>\n",
       "    </tr>\n",
       "  </tbody>\n",
       "</table>\n",
       "</div>"
      ],
      "text/plain": [
       "       Relative Compactness  Surface Area  Wall Area  Roof Area  \\\n",
       "count                384.00        384.00     384.00     384.00   \n",
       "mean                  -0.00          0.00       0.00      -0.00   \n",
       "std                    1.00          1.00       1.00       1.00   \n",
       "min                   -1.61         -1.72      -2.04      -1.48   \n",
       "25%                   -0.73         -0.88      -0.52      -0.71   \n",
       "50%                    0.01         -0.05       0.11      -0.56   \n",
       "75%                    0.89          0.79       0.66       1.03   \n",
       "max                    1.73          1.62       2.03       1.03   \n",
       "\n",
       "       Overall Height  Orientation  Glazing Area  Glazing Area Distribution  \n",
       "count          384.00       384.00        384.00                     384.00  \n",
       "mean             0.00         0.00          0.00                      -0.00  \n",
       "std              1.00         1.00          1.00                       1.00  \n",
       "min             -1.08        -1.43         -1.74                      -1.88  \n",
       "25%             -1.08        -0.47         -1.03                      -1.14  \n",
       "50%              0.93         0.44          0.08                       0.17  \n",
       "75%              0.93         1.31          1.24                       0.78  \n",
       "max              0.93         1.31          1.24                       1.37  "
      ]
     },
     "execution_count": 158,
     "metadata": {},
     "output_type": "execute_result"
    }
   ],
   "source": [
    "pd.set_option('display.float_format', lambda x: '%.2f' % x)\n",
    "print(\"Descriptive statistics of X_train after normalisation:\")\n",
    "norm_X_train = pd.DataFrame(norm_X_train, columns=pre_X_train.iloc[:, 1:].columns)\n",
    "norm_X_train.describe()"
   ]
  },
  {
   "cell_type": "code",
   "execution_count": 159,
   "metadata": {},
   "outputs": [
    {
     "name": "stdout",
     "output_type": "stream",
     "text": [
      "Descriptive statistics of X_test after normalisation:\n"
     ]
    },
    {
     "data": {
      "text/html": [
       "<div>\n",
       "<style scoped>\n",
       "    .dataframe tbody tr th:only-of-type {\n",
       "        vertical-align: middle;\n",
       "    }\n",
       "\n",
       "    .dataframe tbody tr th {\n",
       "        vertical-align: top;\n",
       "    }\n",
       "\n",
       "    .dataframe thead th {\n",
       "        text-align: right;\n",
       "    }\n",
       "</style>\n",
       "<table border=\"1\" class=\"dataframe\">\n",
       "  <thead>\n",
       "    <tr style=\"text-align: right;\">\n",
       "      <th></th>\n",
       "      <th>Relative Compactness</th>\n",
       "      <th>Surface Area</th>\n",
       "      <th>Wall Area</th>\n",
       "      <th>Roof Area</th>\n",
       "      <th>Overall Height</th>\n",
       "      <th>Orientation</th>\n",
       "      <th>Glazing Area</th>\n",
       "      <th>Glazing Area Distribution</th>\n",
       "    </tr>\n",
       "  </thead>\n",
       "  <tbody>\n",
       "    <tr>\n",
       "      <th>count</th>\n",
       "      <td>384.00</td>\n",
       "      <td>384.00</td>\n",
       "      <td>384.00</td>\n",
       "      <td>384.00</td>\n",
       "      <td>384.00</td>\n",
       "      <td>384.00</td>\n",
       "      <td>384.00</td>\n",
       "      <td>384.00</td>\n",
       "    </tr>\n",
       "    <tr>\n",
       "      <th>mean</th>\n",
       "      <td>-0.00</td>\n",
       "      <td>0.00</td>\n",
       "      <td>0.00</td>\n",
       "      <td>0.00</td>\n",
       "      <td>0.00</td>\n",
       "      <td>0.00</td>\n",
       "      <td>0.00</td>\n",
       "      <td>0.00</td>\n",
       "    </tr>\n",
       "    <tr>\n",
       "      <th>std</th>\n",
       "      <td>1.00</td>\n",
       "      <td>1.00</td>\n",
       "      <td>1.00</td>\n",
       "      <td>1.00</td>\n",
       "      <td>1.00</td>\n",
       "      <td>1.00</td>\n",
       "      <td>1.00</td>\n",
       "      <td>1.00</td>\n",
       "    </tr>\n",
       "    <tr>\n",
       "      <th>min</th>\n",
       "      <td>-1.55</td>\n",
       "      <td>-1.76</td>\n",
       "      <td>-1.89</td>\n",
       "      <td>-1.46</td>\n",
       "      <td>-0.93</td>\n",
       "      <td>-1.33</td>\n",
       "      <td>-1.77</td>\n",
       "      <td>-1.89</td>\n",
       "    </tr>\n",
       "    <tr>\n",
       "      <th>25%</th>\n",
       "      <td>-0.97</td>\n",
       "      <td>-0.77</td>\n",
       "      <td>-0.49</td>\n",
       "      <td>-0.88</td>\n",
       "      <td>-0.93</td>\n",
       "      <td>-1.33</td>\n",
       "      <td>-0.99</td>\n",
       "      <td>-0.53</td>\n",
       "    </tr>\n",
       "    <tr>\n",
       "      <th>50%</th>\n",
       "      <td>-0.01</td>\n",
       "      <td>0.05</td>\n",
       "      <td>0.09</td>\n",
       "      <td>0.91</td>\n",
       "      <td>-0.93</td>\n",
       "      <td>-0.36</td>\n",
       "      <td>0.15</td>\n",
       "      <td>0.12</td>\n",
       "    </tr>\n",
       "    <tr>\n",
       "      <th>75%</th>\n",
       "      <td>0.73</td>\n",
       "      <td>0.94</td>\n",
       "      <td>0.61</td>\n",
       "      <td>0.91</td>\n",
       "      <td>1.08</td>\n",
       "      <td>0.51</td>\n",
       "      <td>1.26</td>\n",
       "      <td>0.76</td>\n",
       "    </tr>\n",
       "    <tr>\n",
       "      <th>max</th>\n",
       "      <td>1.77</td>\n",
       "      <td>1.56</td>\n",
       "      <td>1.92</td>\n",
       "      <td>0.91</td>\n",
       "      <td>1.08</td>\n",
       "      <td>1.31</td>\n",
       "      <td>1.26</td>\n",
       "      <td>1.39</td>\n",
       "    </tr>\n",
       "  </tbody>\n",
       "</table>\n",
       "</div>"
      ],
      "text/plain": [
       "       Relative Compactness  Surface Area  Wall Area  Roof Area  \\\n",
       "count                384.00        384.00     384.00     384.00   \n",
       "mean                  -0.00          0.00       0.00       0.00   \n",
       "std                    1.00          1.00       1.00       1.00   \n",
       "min                   -1.55         -1.76      -1.89      -1.46   \n",
       "25%                   -0.97         -0.77      -0.49      -0.88   \n",
       "50%                   -0.01          0.05       0.09       0.91   \n",
       "75%                    0.73          0.94       0.61       0.91   \n",
       "max                    1.77          1.56       1.92       0.91   \n",
       "\n",
       "       Overall Height  Orientation  Glazing Area  Glazing Area Distribution  \n",
       "count          384.00       384.00        384.00                     384.00  \n",
       "mean             0.00         0.00          0.00                       0.00  \n",
       "std              1.00         1.00          1.00                       1.00  \n",
       "min             -0.93        -1.33         -1.77                      -1.89  \n",
       "25%             -0.93        -1.33         -0.99                      -0.53  \n",
       "50%             -0.93        -0.36          0.15                       0.12  \n",
       "75%              1.08         0.51          1.26                       0.76  \n",
       "max              1.08         1.31          1.26                       1.39  "
      ]
     },
     "execution_count": 159,
     "metadata": {},
     "output_type": "execute_result"
    }
   ],
   "source": [
    "print(\"Descriptive statistics of X_test after normalisation:\")\n",
    "norm_X_test = pd.DataFrame(norm_X_test, columns=pre_X_test.iloc[:, 1:].columns)\n",
    "norm_X_test.describe()"
   ]
  },
  {
   "cell_type": "code",
   "execution_count": 160,
   "metadata": {},
   "outputs": [
    {
     "data": {
      "text/plain": [
       "(384, 9)"
      ]
     },
     "execution_count": 160,
     "metadata": {},
     "output_type": "execute_result"
    }
   ],
   "source": [
    "X_train = np.concatenate((pre_X_train.iloc[:, 0:1], norm_X_train), axis = 1)\n",
    "y_train = np.array(y_train).T.ravel()\n",
    "X_test = np.concatenate((pre_X_test.iloc[:, 0:1], norm_X_train), axis = 1)\n",
    "y_test = np.array(y_test).T.ravel()"
   ]
  },
  {
   "cell_type": "code",
   "execution_count": 161,
   "metadata": {
    "ExecuteTime": {
     "end_time": "2022-04-06T16:04:14.854614Z",
     "start_time": "2022-04-06T16:04:14.849643Z"
    }
   },
   "outputs": [],
   "source": [
    "# Check whether fixed variables are correctly defined ..\n",
    "try:\n",
    "    if not isinstance(X_train,np.ndarray):\n",
    "        print('X_train should be an array')        \n",
    "    if X_train.shape != (384,9):\n",
    "        print('X_train is arranged in wrong shape')\n",
    "except Exception as err:\n",
    "    print('Error output:', err)\n",
    "    \n",
    "try:\n",
    "    if not isinstance(y_train,np.ndarray):\n",
    "        print('y_train should be an array')        \n",
    "    if y_train.shape != (384,):\n",
    "        print('y_train is arranged in wrong shape')\n",
    "except Exception as err:\n",
    "    print('Error output:', err)"
   ]
  },
  {
   "cell_type": "markdown",
   "metadata": {},
   "source": [
    "#  Task 2 : Type-2 maximum likelihood (Section 4.2 (a) in the specification doc)\n",
    "\n",
    "###  **(6 marks)**"
   ]
  },
  {
   "cell_type": "markdown",
   "metadata": {},
   "source": [
    "Precisions are defined as: $\\alpha = 1 / \\sigma_w^2$ and $ \\beta = 1 / \\sigma_{\\epsilon}^2 $\n",
    "\n",
    "Assume priors of $\\alpha$ and $\\beta$ follow flat Uniform distributions, please derive a likelihood function $(y|\\alpha, \\beta)$ (`compute_log_marginal`) to compute the *log-ikelihood* for the Bayesian linear regression problem using $X$ and hyperparameters $\\alpha$ and $\\beta$. \n",
    "\n",
    "In Lecture 4, slide 11 and 12 we have illustrated the equations of finding the most probable hyperparameters to maximise the likelihood with respect to the hyperparameters (slide 12).\n",
    "\n",
    "\n",
    "`X`: this is an np.array equivalent to matrix $X$ in the specification doc, e.g., `X_train`, `X_test`.\n",
    "\n",
    "`y`: this is an np.array equivalent totarget $y$ in the specification doc, e.g., `y_train`, `y_test`.\n"
   ]
  },
  {
   "cell_type": "code",
   "execution_count": null,
   "metadata": {
    "ExecuteTime": {
     "end_time": "2022-04-06T16:04:14.860310Z",
     "start_time": "2022-04-06T16:04:14.857912Z"
    }
   },
   "outputs": [],
   "source": [
    "## Compute log-likelihood\n",
    "\n",
    "def compute_log_marginal(X, y, alph, beta):\n",
    "    #### **** YOUR CODE HERE **** ####   \n",
    "\n",
    "    return lgp"
   ]
  },
  {
   "cell_type": "markdown",
   "metadata": {},
   "source": [
    "Compute log-evidence (marginal likelihood) `log_prob_y` and plot the 'contourf' of the log-posterior distribution.\n",
    "\n",
    "- The x-axis should be the value of $log \\alpha$ and y-axis the $log\\beta$, `log_prob_y` represents the log-evidence. For each axis, it is recommended to use \n",
    "`np.linspace(-5,0,100)`\n",
    "\n",
    "- It is strongly recommended that you use only natural logarithms for hyper-parameter scales. That is, you would use `numpy.exp()` and `numpy.log()` functions to convert (or to convert back) the logarithm terms."
   ]
  },
  {
   "cell_type": "code",
   "execution_count": null,
   "metadata": {
    "ExecuteTime": {
     "end_time": "2022-04-06T16:04:14.865483Z",
     "start_time": "2022-04-06T16:04:14.862299Z"
    },
    "scrolled": true
   },
   "outputs": [],
   "source": [
    "#### **** YOUR CODE HERE **** ####   \n",
    "\n",
    "\n",
    "# Check whether your variables are correctly defined ..\n",
    "try:\n",
    "    if not isinstance(log_prob_y,np.ndarray):\n",
    "        print('log_prob_y should be an array')        \n",
    "    if log_prob_y.shape != (100,100):\n",
    "        print('log_prob_y is arranged in a wrong shape')\n",
    "except Exception as err:\n",
    "    print('Error output:', err)"
   ]
  },
  {
   "cell_type": "markdown",
   "metadata": {},
   "source": [
    "Print out the most proboble values of the parameters $\\alpha$ and $\\beta$ and the corresponding log-likelihood value."
   ]
  },
  {
   "cell_type": "code",
   "execution_count": null,
   "metadata": {
    "ExecuteTime": {
     "end_time": "2022-04-06T16:04:14.869511Z",
     "start_time": "2022-04-06T16:04:14.867274Z"
    }
   },
   "outputs": [],
   "source": [
    "#### **** YOUR CODE HERE **** ####"
   ]
  },
  {
   "cell_type": "markdown",
   "metadata": {},
   "source": [
    "Visualisation using `plt.contourf`for the posterior distribution and indicate the most probable value (with a highlighted marker) in the graph."
   ]
  },
  {
   "cell_type": "code",
   "execution_count": null,
   "metadata": {
    "ExecuteTime": {
     "end_time": "2022-04-06T16:04:14.907653Z",
     "start_time": "2022-04-06T16:04:14.871562Z"
    }
   },
   "outputs": [],
   "source": [
    "#### **** YOUR CODE HERE **** ####   \n"
   ]
  },
  {
   "cell_type": "markdown",
   "metadata": {},
   "source": [
    "Write a function `compute_posterior(X, y, alph, beta)`  to compute the posterior mean $\\mathbf{\\mu}$ (`Mu`) and covariance $\\mathbf{\\Sigma}$ (`SIGMA`) for the Bayesian linear regression model, and return `Mu` and `SIGMA` for the posterior in the np.array format. "
   ]
  },
  {
   "cell_type": "code",
   "execution_count": null,
   "metadata": {
    "ExecuteTime": {
     "end_time": "2022-04-06T16:04:14.913930Z",
     "start_time": "2022-04-06T16:04:14.911445Z"
    }
   },
   "outputs": [],
   "source": [
    "def compute_posterior(X, y, alph, beta):\n",
    "    #### **** YOUR CODE HERE **** ####\n",
    "\n",
    "    return Mu, SIGMA"
   ]
  },
  {
   "cell_type": "markdown",
   "metadata": {},
   "source": [
    "Calculate the predicted weights and print out the corresponding RMSE for training and test sets."
   ]
  },
  {
   "cell_type": "code",
   "execution_count": null,
   "metadata": {
    "ExecuteTime": {
     "end_time": "2022-04-06T16:04:14.918700Z",
     "start_time": "2022-04-06T16:04:14.916908Z"
    }
   },
   "outputs": [],
   "source": [
    "#### **** YOUR CODE HERE **** ####\n"
   ]
  },
  {
   "cell_type": "markdown",
   "metadata": {},
   "source": [
    "# Task 3: Variational Inference (Section 4.2 (b) in the specification doc)"
   ]
  },
  {
   "cell_type": "markdown",
   "metadata": {},
   "source": [
    "###  **(4 marks)**\n",
    "\n",
    "Write a Variational Inference function `VI(X_train, Y_train)` and return parameter estimates. \n",
    "\n",
    "The returned terms should include:\n",
    "\n",
    "`an`, `bn`, `cn`, `dn`: float\n",
    "\n",
    "`mn_n`: np.array, shape = (9,),\n",
    "\n",
    "`sig_n`: np.array, shape = (9,9),\n",
    "\n",
    "where\n",
    "\n",
    "`an` and `bn` are the hyper-parameters for $w\\propto  N(w|0,\\alpha)$,  $\\alpha\\propto Gamma(\\alpha|a,b) $. \n",
    "\n",
    "`cn` and `dn` are the hyper-parameters for gaussian noise $N(0,\\beta)$,  $\\beta\\propto Gamma(\\beta|c,d) $.\n",
    "\n",
    "`mn_n` and `sig_n` are the mean $\\mathbf{\\mu}$ and covariance $\\mathbf{\\Sigma}$ of the posterior distribution w.r.t. $w$ (in this task) for the Bayesian linear regression model.\n",
    "\n",
    "The corresponding derivations should be completed in your report.\n",
    "\n"
   ]
  },
  {
   "cell_type": "code",
   "execution_count": null,
   "metadata": {
    "ExecuteTime": {
     "end_time": "2022-04-06T16:04:14.923133Z",
     "start_time": "2022-04-06T16:04:14.920741Z"
    }
   },
   "outputs": [],
   "source": [
    "def VI(X_train, Y_train):\n",
    "    #### **** YOUR CODE HERE **** ####\n",
    "\n",
    "    \n",
    "    \n",
    "    return an,bn,cn,dn, mu_n, sig_n\n"
   ]
  },
  {
   "cell_type": "markdown",
   "metadata": {},
   "source": [
    "Print out the expectation of $\\alpha$ and $\\beta$ as `exp_alpha`,`exp_beta`. \n"
   ]
  },
  {
   "cell_type": "code",
   "execution_count": null,
   "metadata": {
    "ExecuteTime": {
     "end_time": "2022-04-06T16:04:14.928214Z",
     "start_time": "2022-04-06T16:04:14.925100Z"
    }
   },
   "outputs": [],
   "source": [
    "try:\n",
    "    an,bn,cn,dn, mu_n, sig_n = VI(X_train, Y_train)\n",
    "except Exception as err:\n",
    "    print('Error output:', err)\n",
    "    \n",
    "#### Print out the expectation of alpha and beta\n",
    "#### **** YOUR CODE HERE **** ####\n",
    "\n"
   ]
  },
  {
   "cell_type": "code",
   "execution_count": null,
   "metadata": {
    "ExecuteTime": {
     "end_time": "2022-04-06T16:04:14.935127Z",
     "start_time": "2022-04-06T16:04:14.930399Z"
    }
   },
   "outputs": [],
   "source": [
    "# Check whether your variables are correctly defined  ..\n",
    "try:\n",
    "    if not isinstance(mu_n,np.ndarray):\n",
    "        print('mu_n should be an array')        \n",
    "    if mu_n.shape != (9,):\n",
    "        print('mu_n is arranged in wrong shape')\n",
    "except Exception as err:\n",
    "    print('Error output:', err)\n",
    "    \n",
    "try:\n",
    "    if not isinstance(sig_n,np.ndarray):\n",
    "        print('sig_n should be an array')        \n",
    "    if sig_n.shape != (9,9):\n",
    "        print('sig_n is arranged in wrong shape')\n",
    "except Exception as err:\n",
    "    print('Error output:', err)\n",
    "    \n",
    "try:\n",
    "    exp_alpha\n",
    "    exp_beta\n",
    "except Exception as err:\n",
    "    print('Error output:', err)"
   ]
  },
  {
   "cell_type": "markdown",
   "metadata": {},
   "source": [
    "Calculate the RMSE for training and test sets."
   ]
  },
  {
   "cell_type": "code",
   "execution_count": null,
   "metadata": {
    "ExecuteTime": {
     "end_time": "2022-04-06T16:04:14.939211Z",
     "start_time": "2022-04-06T16:04:14.937164Z"
    }
   },
   "outputs": [],
   "source": [
    "#### **** YOUR CODE HERE **** ####\n"
   ]
  },
  {
   "cell_type": "markdown",
   "metadata": {},
   "source": [
    "# Task 4: Verify HMC on a standard 2D Gaussian example (Section 4.3 in the specification doc)"
   ]
  },
  {
   "cell_type": "markdown",
   "metadata": {},
   "source": [
    "###  **(4 marks)**\n",
    "\n",
    "## The \"Distribution\"\n",
    "\n",
    "Complete the following functions:\n",
    "\n",
    "- `energy_func(x)`: the energy function, return negative log pdf value in float format\n",
    "- `energy_grad(x)`: the gradient function returns a numpy array containing the partial derivatives of the energy function with respect to the parameters/hyper-parameters.\n",
    "- `covar`: Covariance matrix for 2-dimensional gaussian. It is an numpy array with shape (2,2), e.g,  np.array([[1.0875,1],[1,1.0875]]) \n",
    "\n",
    "- `R`: the number of samples desired\n",
    "- `L`: number of simulation steps; for this simple case, 20 is easily enough\n",
    "- `eps`: simulation step length; set by trial-and-error to give approx. 90% acceptance\n",
    "- `burn`: simply set to `R/10`\n",
    "- `checkgrad`: set to true to test the consistency of `energy_func` and `energy_grad`\n",
    "\n"
   ]
  },
  {
   "cell_type": "code",
   "execution_count": null,
   "metadata": {
    "ExecuteTime": {
     "end_time": "2022-04-06T16:04:14.943668Z",
     "start_time": "2022-04-06T16:04:14.941113Z"
    }
   },
   "outputs": [],
   "source": [
    "def energy_func(x, covar):\n",
    "    #### **** YOUR CODE HERE **** ####\n",
    "    \n",
    "    return neglgp\n",
    "\n",
    "def energy_grad(x, covar):\n",
    "    #### **** YOUR CODE HERE **** ####\n",
    "    \n",
    "    \n",
    "    return g\n",
    "\n"
   ]
  },
  {
   "cell_type": "markdown",
   "metadata": {},
   "source": [
    "## Visualising the Distribution\n",
    "Before we run the sampler, let's visualise the distribution over an appropriate\n",
    "grid of values. Please specify `covar` to plot figures, an naive example of `covar` has been shown below"
   ]
  },
  {
   "cell_type": "code",
   "execution_count": null,
   "metadata": {
    "ExecuteTime": {
     "end_time": "2022-04-06T16:04:15.132283Z",
     "start_time": "2022-04-06T16:04:14.945961Z"
    }
   },
   "outputs": [],
   "source": [
    "\n",
    "#### **** YOUR CODE BELOW **** ####\n",
    "\n",
    "covar = np.array([[1,0.9],[0.9,1]]) \n",
    "\n",
    "#### **** YOUR CODE ABOVE **** ####\n",
    "\n",
    "f = 5  # The \"frequency\" argument for the energy, used here to demonstrate how to use \"args\"\n",
    "# Other plotting parameters\n",
    "fsz = (10,8)\n",
    "gsz = 100\n",
    "lim = 3\n",
    "\n",
    "# Setup the mesh grid\n",
    "\n",
    "gx = np.linspace(-lim, lim, gsz)\n",
    "GX, GY = np.meshgrid(gx, gx)\n",
    "Gsz = GX.size\n",
    "G = np.hstack((GX.reshape((Gsz, 1)), GY.reshape((Gsz, 1))))\n",
    "\n",
    "# Plot the figure\n",
    "plt.figure(figsize=fsz)\n",
    "P = np.asarray([np.exp(-energy_func(g, covar)) for g in G])\n",
    "plt.contour(GX, GY, P.reshape((gsz, gsz)), cmap='Reds', linewidths=3, zorder=1);"
   ]
  },
  {
   "cell_type": "code",
   "execution_count": null,
   "metadata": {
    "ExecuteTime": {
     "end_time": "2022-04-06T16:04:43.415213Z",
     "start_time": "2022-04-06T16:04:43.412702Z"
    }
   },
   "outputs": [],
   "source": [
    "try:\n",
    "    if not isinstance(covar ,np.ndarray):\n",
    "        print('covar  should be an array')        \n",
    "    if covar .shape != (2,2):\n",
    "        print('covar  is arranged in wrong shape')\n",
    "except Exception as err:\n",
    "    print('Error output:', err)"
   ]
  },
  {
   "cell_type": "code",
   "execution_count": null,
   "metadata": {
    "ExecuteTime": {
     "end_time": "2022-04-06T16:04:44.387058Z",
     "start_time": "2022-04-06T16:04:44.376115Z"
    }
   },
   "outputs": [],
   "source": [
    "# Initialise the state for the first time step\n",
    "x0 = np.random.normal(size=2)\n",
    "\n",
    "# Call the function from the pre-defined hmc module\n",
    "hmc.gradient_check(x0, energy_func, energy_grad, covar)"
   ]
  },
  {
   "cell_type": "markdown",
   "metadata": {},
   "source": [
    "## Hyper-parameters\n",
    "\n",
    "Please tune optimal hyper-parameters incluidng `R`, `L`, and `eps` in the cell below. "
   ]
  },
  {
   "cell_type": "code",
   "execution_count": null,
   "metadata": {
    "ExecuteTime": {
     "end_time": "2022-04-06T16:04:46.883980Z",
     "start_time": "2022-04-06T16:04:46.876236Z"
    }
   },
   "outputs": [],
   "source": [
    "np.random.seed(seed=1)  # Fix the random seed for better reproducibility\n",
    "\n",
    "#### **** YOUR CODE BELOW **** ####\n",
    "\n",
    "\n",
    "# R=\n",
    "# L = \n",
    "# eps = \n",
    "burn = int(R/10) \n",
    "\n",
    "#### **** YOUR CODE ABOVE **** ####\n",
    "\n",
    "# HMC sampling\n",
    "S, *_ = hmc.sample(x0, energy_func, energy_grad, R, L, eps, burn=burn, checkgrad=True, args=[covar])\n",
    "# Plot the figure\n",
    "plt.figure(figsize=fsz)\n",
    "plt.plot(S[:, 0], S[:, 1], '.', ms=6, color='CadetBlue', alpha=0.25, zorder=0)\n",
    "plt.contour(GX, GY, P.reshape((gsz, gsz)), cmap='Reds', linewidths=3, zorder=1);"
   ]
  },
  {
   "cell_type": "code",
   "execution_count": null,
   "metadata": {
    "ExecuteTime": {
     "end_time": "2022-04-06T16:04:15.143577Z",
     "start_time": "2022-04-06T16:04:13.873Z"
    }
   },
   "outputs": [],
   "source": [
    "#### **** YOUR CODE HERE **** ####\n",
    "\n",
    "#### **** You can add extra figures to support the individual report **** ####"
   ]
  },
  {
   "cell_type": "markdown",
   "metadata": {},
   "source": [
    "# Task 5: Apply HMC to the Linear Regression Model (Section 4.4 in the specification doc)"
   ]
  },
  {
   "cell_type": "markdown",
   "metadata": {},
   "source": [
    "###  **(8 marks)**\n",
    "\n",
    "Complete the functions and the HMC code for this task:\n",
    "\n",
    "- `energy_func_lr(hps, x, y)`: where `hps` is a 2+9 dimension array, where the 1st dimension represents $\\alpha$, and the 2nd represnets $\\beta$. Thus, `hps[0]` should be the current $\\alpha$, `hps[1]` the $\\beta$ and `hps[2:]` represent the weights `w` for constant and 8 variables respectively. `x` and `y` is the x and y array of training data.\n",
    "\n",
    "- `energy_grad_lr(hps, x, y)`: the gradient function returns an array containing the partial derivatives of the energy function. should be the same shape for hps. \n",
    "\n",
    "- `R`: the number of samples desired\n",
    "- `L`: number of simulation steps; for this simple case, 20 is easily enough\n",
    "- `eps`: simulation step length; set by trial-and-error to give approx. 90% acceptance\n",
    "- `burn`: simply set to `R/10`\n",
    "- `checkgrad`: set to true to test the consistency of `energy_func` and `energy_grad`\n",
    "\n",
    "\n"
   ]
  },
  {
   "cell_type": "code",
   "execution_count": null,
   "metadata": {
    "ExecuteTime": {
     "end_time": "2022-04-06T16:04:15.144865Z",
     "start_time": "2022-04-06T16:04:13.874Z"
    }
   },
   "outputs": [],
   "source": [
    "def energy_func_lr(hps, x, y):\n",
    "    #### **** YOUR CODE HERE **** ####\n",
    "    \n",
    "    return neglgp"
   ]
  },
  {
   "cell_type": "code",
   "execution_count": null,
   "metadata": {
    "ExecuteTime": {
     "end_time": "2022-04-06T16:04:15.146105Z",
     "start_time": "2022-04-06T16:04:13.875Z"
    }
   },
   "outputs": [],
   "source": [
    "def energy_grad_lr(hps, x, y):\n",
    "    \n",
    "    #### **** YOUR CODE HERE **** ####\n",
    "\n",
    "    return g"
   ]
  },
  {
   "cell_type": "code",
   "execution_count": null,
   "metadata": {
    "ExecuteTime": {
     "end_time": "2022-04-06T16:04:15.147415Z",
     "start_time": "2022-04-06T16:04:13.877Z"
    }
   },
   "outputs": [],
   "source": [
    "np.random.seed(seed=1) \n",
    "\n",
    "#### **** YOUR CODE HERE **** ####\n",
    "\n",
    "\n",
    "\n",
    "#### you can adjust the hpyer-parameters. \n",
    "\n",
    "\n",
    "S, *_ = hmc.sample(x0, energy_func_lr, energy_grad_lr, R, L, eps, burn=burn, checkgrad=True, args=[X_train, Y_train])"
   ]
  },
  {
   "cell_type": "markdown",
   "metadata": {},
   "source": [
    "## Print out the RMSE and plot figures for your report"
   ]
  },
  {
   "cell_type": "code",
   "execution_count": null,
   "metadata": {
    "ExecuteTime": {
     "end_time": "2022-04-06T16:04:15.148669Z",
     "start_time": "2022-04-06T16:04:13.878Z"
    }
   },
   "outputs": [],
   "source": [
    "#### **** YOUR CODE HERE **** ####"
   ]
  },
  {
   "cell_type": "markdown",
   "metadata": {},
   "source": [
    "# Task 6: Gaussian Processes\n",
    "\n",
    "###  **(3 marks)**\n",
    "\n",
    "There's no restriction on the GP implementation, you could either use the sklearn package or the Tensorflow style, the latter of which may receive extra bonus mark depending on the quality of implementation.  \n",
    "\n",
    "You only need to estimate the weights from $x0$ to $x8$ in this task, then calculate RMSE and plot supporting figures for your report. \n",
    "\n",
    "<font color=Red>  It is highly recommended that you impelment this part in a seperated file if your implementation contains too many extra libraries, as it may fool the auto-marker and incorrectly mark the rest of your notebook. \n",
    "<font>   \n",
    "    \n",
    "    \n"
   ]
  },
  {
   "cell_type": "code",
   "execution_count": null,
   "metadata": {},
   "outputs": [],
   "source": []
  }
 ],
 "metadata": {
  "kernelspec": {
   "display_name": "Python 3 (ipykernel)",
   "language": "python",
   "name": "python3"
  },
  "language_info": {
   "codemirror_mode": {
    "name": "ipython",
    "version": 3
   },
   "file_extension": ".py",
   "mimetype": "text/x-python",
   "name": "python",
   "nbconvert_exporter": "python",
   "pygments_lexer": "ipython3",
   "version": "3.7.11"
  },
  "toc": {
   "base_numbering": 1,
   "nav_menu": {},
   "number_sections": true,
   "sideBar": true,
   "skip_h1_title": false,
   "title_cell": "Table of Contents",
   "title_sidebar": "Contents",
   "toc_cell": false,
   "toc_position": {
    "height": "calc(100% - 180px)",
    "left": "10px",
    "top": "150px",
    "width": "277px"
   },
   "toc_section_display": true,
   "toc_window_display": true
  },
  "varInspector": {
   "cols": {
    "lenName": 16,
    "lenType": 16,
    "lenVar": 40
   },
   "kernels_config": {
    "python": {
     "delete_cmd_postfix": "",
     "delete_cmd_prefix": "del ",
     "library": "var_list.py",
     "varRefreshCmd": "print(var_dic_list())"
    },
    "r": {
     "delete_cmd_postfix": ") ",
     "delete_cmd_prefix": "rm(",
     "library": "var_list.r",
     "varRefreshCmd": "cat(var_dic_list()) "
    }
   },
   "types_to_exclude": [
    "module",
    "function",
    "builtin_function_or_method",
    "instance",
    "_Feature"
   ],
   "window_display": false
  }
 },
 "nbformat": 4,
 "nbformat_minor": 4
}
